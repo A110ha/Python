{
  "nbformat": 4,
  "nbformat_minor": 0,
  "metadata": {
    "colab": {
      "provenance": [],
      "authorship_tag": "ABX9TyMGWSkiZDXGKwkwxr/hGLn4",
      "include_colab_link": true
    },
    "kernelspec": {
      "name": "python3",
      "display_name": "Python 3"
    },
    "language_info": {
      "name": "python"
    }
  },
  "cells": [
    {
      "cell_type": "markdown",
      "metadata": {
        "id": "view-in-github",
        "colab_type": "text"
      },
      "source": [
        "<a href=\"https://colab.research.google.com/github/A110ha/Python/blob/master/Lecture4.ipynb\" target=\"_parent\"><img src=\"https://colab.research.google.com/assets/colab-badge.svg\" alt=\"Open In Colab\"/></a>"
      ]
    },
    {
      "cell_type": "markdown",
      "source": [
        "![image.png](data:image/png;base64,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)"
      ],
      "metadata": {
        "id": "-R9yVHKZuJ-R"
      }
    },
    {
      "cell_type": "code",
      "source": [
        "from random import shuffle\n",
        "s = ['abcd', 'Bcdefg', 'cde', 'Defghij', 'efg', 'Fghfcnj', 'ghsdji', 'hij', 'ijknk', 'jkl', 'klmn']\n",
        "shuffle(s)\n",
        "print(s)\n",
        "for i in range(0,len(s)):\n",
        "  s[i]=s[i].lower()\n",
        "s.sort()\n",
        "print(s)"
      ],
      "metadata": {
        "id": "3NZFKfAluMay",
        "colab": {
          "base_uri": "https://localhost:8080/"
        },
        "outputId": "2bf6b041-1596-47f3-af18-5c19686d0bb6"
      },
      "execution_count": null,
      "outputs": [
        {
          "output_type": "stream",
          "name": "stdout",
          "text": [
            "['abcd', 'efg', 'Fghfcnj', 'Bcdefg', 'ijknk', 'cde', 'jkl', 'klmn', 'ghsdji', 'hij', 'Defghij']\n",
            "['abcd', 'bcdefg', 'cde', 'defghij', 'efg', 'fghfcnj', 'ghsdji', 'hij', 'ijknk', 'jkl', 'klmn']\n"
          ]
        }
      ]
    },
    {
      "cell_type": "markdown",
      "source": [
        "![image.png](data:image/png;base64,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)"
      ],
      "metadata": {
        "id": "T7b62iffYrSK"
      }
    },
    {
      "cell_type": "code",
      "source": [
        "def calculate_sum_of_letters(word):\n",
        "  word=word.lower()\n",
        "  total_sum = 0\n",
        "  for letter in word:\n",
        "    if 'a' <= letter <= 'z':\n",
        "      letter_value = ord(letter) - ord('a') + 1\n",
        "      total_sum += letter_value\n",
        "  return total_sum\n",
        "SUM = \"Python\"\n",
        "s = calculate_sum_of_letters(SUM)\n",
        "print(f\"Сумма порядковых номеров букв в слове {SUM}: {s}\")"
      ],
      "metadata": {
        "colab": {
          "base_uri": "https://localhost:8080/"
        },
        "id": "4GywZtE3Yx4_",
        "outputId": "b0c6fa6d-5731-4fae-d547-a52f5c883fd3"
      },
      "execution_count": null,
      "outputs": [
        {
          "output_type": "stream",
          "name": "stdout",
          "text": [
            "Сумма порядковых номеров букв в слове Python: 98\n"
          ]
        }
      ]
    },
    {
      "cell_type": "markdown",
      "source": [
        "![image.png](data:image/png;base64,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)"
      ],
      "metadata": {
        "id": "bailxcdlcZMe"
      }
    },
    {
      "cell_type": "code",
      "source": [
        "def read():\n",
        "  z = str(input(\"Введите + или -: \"))\n",
        "  c = str(input(\"Введите цифру: \"))\n",
        "  res = ''\n",
        "  while c != ' ' and c.isdigit():\n",
        "    res = res + c\n",
        "    c = str(input(\"Введите цифру: \"))\n",
        "  if z == '+':\n",
        "    k = int(res)\n",
        "  elif z == '-':\n",
        "    k = int(res) * (-1)\n",
        "  return k\n",
        "result = read()\n",
        "print(result)"
      ],
      "metadata": {
        "id": "OvlM9M4ziWmE",
        "colab": {
          "base_uri": "https://localhost:8080/"
        },
        "outputId": "33006b70-9836-49ab-be09-3466dcfa2fe4"
      },
      "execution_count": null,
      "outputs": [
        {
          "output_type": "stream",
          "name": "stdout",
          "text": [
            "Введите + или -: -\n",
            "Введите цифру: 2\n",
            "Введите цифру: 4\n",
            "Введите цифру: 6\n",
            "Введите цифру:  \n",
            "-246\n"
          ]
        }
      ]
    },
    {
      "cell_type": "markdown",
      "source": [
        "![image.png](data:image/png;base64,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)"
      ],
      "metadata": {
        "id": "fF_LknXct-Y1"
      }
    },
    {
      "cell_type": "markdown",
      "source": [
        "file_name = \"generated_file.txt\""
      ],
      "metadata": {
        "id": "xlp6d_w_23WL"
      }
    },
    {
      "cell_type": "code",
      "source": [
        "with open(\"generated_file.txt\", \"r\") as file:\n",
        "  for line in file:\n",
        "    print(line, end='')\n",
        "with open(\"generated_file.txt\", \"r\") as file:\n",
        "  lines = file.readlines()\n",
        "  print(lines)\n",
        "max_length = max(len(line) for line in lines)\n",
        "longest_lines = [line for line in lines if len(line) == max_length]\n",
        "with open('output_file.txt', 'w') as file:\n",
        "    for line in reversed(longest_lines):\n",
        "        file.write(line)\n",
        "with open('output_file.txt', 'r') as file:\n",
        "  for line in file:\n",
        "    print(line, end='')"
      ],
      "metadata": {
        "colab": {
          "base_uri": "https://localhost:8080/"
        },
        "id": "uZ-tf4GiuJWT",
        "outputId": "0eed1227-7739-47ac-f2bd-f973d6e4aa59"
      },
      "execution_count": null,
      "outputs": [
        {
          "output_type": "stream",
          "name": "stdout",
          "text": [
            "Society ten training. Myself line enough hot senior.\n",
            "Go idea mother center society. Word partner fine name control president organization.\n",
            "War mouth four present security unit poor. Woman thank what his hotel movement.\n",
            "Dog plant bad change represent month. Fire eye stay. Recent project nation by few.\n",
            "No describe least detail soon see within down.\n",
            "Ready line himself activity word general. Several probably answer general raise.\n",
            "Notice company stuff here protect teach film sea. Staff method bring season money continue reduce. Place follow home up.\n",
            "Protect artist military center sign reflect.\n",
            "Probably need traditional right threat.\n",
            "Grow now laugh thus water. Tonight whom play rest admit in.\n",
            "Son fire term. Us get miss economy professor condition half.\n",
            "White book outside. Hold begin piece indicate event. Happy represent condition send investment pass.\n",
            "Mission service eye whole. Give specific catch tell medical. Green return job say early.\n",
            "Here seek thing sort. Heart teach summer ago ground sit hospital. Much education full life physical blue night.\n",
            "Treat natural east glass keep style exist I. Others toward capital actually. Western six happen head partner manage.\n",
            "First operation score model. Daughter and field top.\n",
            "Up alone bed as same these. Let bar especially ever. Everyone machine agree deal computer.\n",
            "Traditional ahead fight well station evidence magazine. Nature add guess chair continue pretty suggest.\n",
            "Appear threat population behind. Benefit worry model attention into involve those.\n",
            "Could administration kind although. Major step the remain fly challenge.\n",
            "After hotel enter medical list task boy. Charge make fund figure scene television spring generation.\n",
            "Character keep matter book.\n",
            "Ability song else more accept. Look bed food several. Member term measure heart kid bag.['Society ten training. Myself line enough hot senior.\\n', 'Go idea mother center society. Word partner fine name control president organization.\\n', 'War mouth four present security unit poor. Woman thank what his hotel movement.\\n', 'Dog plant bad change represent month. Fire eye stay. Recent project nation by few.\\n', 'No describe least detail soon see within down.\\n', 'Ready line himself activity word general. Several probably answer general raise.\\n', 'Notice company stuff here protect teach film sea. Staff method bring season money continue reduce. Place follow home up.\\n', 'Protect artist military center sign reflect.\\n', 'Probably need traditional right threat.\\n', 'Grow now laugh thus water. Tonight whom play rest admit in.\\n', 'Son fire term. Us get miss economy professor condition half.\\n', 'White book outside. Hold begin piece indicate event. Happy represent condition send investment pass.\\n', 'Mission service eye whole. Give specific catch tell medical. Green return job say early.\\n', 'Here seek thing sort. Heart teach summer ago ground sit hospital. Much education full life physical blue night.\\n', 'Treat natural east glass keep style exist I. Others toward capital actually. Western six happen head partner manage.\\n', 'First operation score model. Daughter and field top.\\n', 'Up alone bed as same these. Let bar especially ever. Everyone machine agree deal computer.\\n', 'Traditional ahead fight well station evidence magazine. Nature add guess chair continue pretty suggest.\\n', 'Appear threat population behind. Benefit worry model attention into involve those.\\n', 'Could administration kind although. Major step the remain fly challenge.\\n', 'After hotel enter medical list task boy. Charge make fund figure scene television spring generation.\\n', 'Character keep matter book.\\n', 'Ability song else more accept. Look bed food several. Member term measure heart kid bag.']\n",
            "Notice company stuff here protect teach film sea. Staff method bring season money continue reduce. Place follow home up.\n"
          ]
        }
      ]
    },
    {
      "cell_type": "markdown",
      "source": [
        "![image.png](data:image/png;base64,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)"
      ],
      "metadata": {
        "id": "CidncSOZC5RH"
      }
    },
    {
      "cell_type": "markdown",
      "source": [
        "file_name = \"numbers.txt\""
      ],
      "metadata": {
        "id": "yE42UvGqHnka"
      }
    },
    {
      "cell_type": "code",
      "source": [
        "with open(\"numbers.txt\", \"r\") as file:\n",
        "  content = file.read()\n",
        "  print(content)\n",
        "  numbers = [int(num) for num in content.split()]\n",
        "second_half = numbers[len(numbers) // 2:]\n",
        "with open(\"out.txt\", \"w\") as file:\n",
        "  file.write(' '.join(map(str, second_half)))\n",
        "with open(\"out.txt\", \"r\") as file:\n",
        "  for line in file:\n",
        "    print(line, end='')"
      ],
      "metadata": {
        "colab": {
          "base_uri": "https://localhost:8080/"
        },
        "id": "ZVY-VmYVC8hv",
        "outputId": "50c8148f-b6c9-450f-8d0c-9c2ba8d3ebc8"
      },
      "execution_count": null,
      "outputs": [
        {
          "output_type": "stream",
          "name": "stdout",
          "text": [
            "123 4 56 7890 1 2 34 56 789 102 3245 123\n",
            "34 56 789 102 3245 123"
          ]
        }
      ]
    },
    {
      "cell_type": "markdown",
      "source": [
        "![image.png](data:image/png;base64,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)"
      ],
      "metadata": {
        "id": "7DbenI8bSLs9"
      }
    },
    {
      "cell_type": "code",
      "source": [
        "with open(\"series.txt\", \"r\") as file:\n",
        "  content = file.read()\n",
        "  print(content)\n",
        "  numbers = [int(num) for num in content.split()]\n",
        "series_count = 1\n",
        "previous_number = numbers[0]\n",
        "for num in numbers[1:]:\n",
        "  if num != previous_number:\n",
        "    series_count += 1\n",
        "    previous_number = num\n",
        "print(series_count)"
      ],
      "metadata": {
        "colab": {
          "base_uri": "https://localhost:8080/"
        },
        "id": "DaT9mnSFSPDM",
        "outputId": "79ce7158-ea85-4904-ac22-d38b93980c98"
      },
      "execution_count": null,
      "outputs": [
        {
          "output_type": "stream",
          "name": "stdout",
          "text": [
            "1 5 5 5 4 4 5\n",
            "4\n"
          ]
        }
      ]
    },
    {
      "cell_type": "markdown",
      "source": [
        "Разработка программы тестирования на Python"
      ],
      "metadata": {
        "id": "3C0ndU5blgNl"
      }
    },
    {
      "cell_type": "code",
      "source": [
        "import random\n",
        "from datetime import datetime\n",
        "class Question:\n",
        "    def __init__(self, text, options, correct_answer):\n",
        "        self.text = text\n",
        "        self.options = options\n",
        "        self.correct_answer = correct_answer\n",
        "\n",
        "    def shuffle_options(self):\n",
        "        correct_index = self.options.index(self.correct_answer)\n",
        "        random.shuffle(self.options)\n",
        "        self.shuffled_correct_index = self.options.index(self.correct_answer)\n",
        "        return correct_index\n",
        "\n",
        "    def check_answer(self, user_answer):\n",
        "        return int(user_answer) - 1 == self.shuffled_correct_index\n",
        "\n",
        "def load_questions_from_file(file_path):\n",
        "    questions = []\n",
        "    try:\n",
        "        with open(file_path, 'r', encoding='utf-8') as file:\n",
        "            for line in file:\n",
        "                parts = line.strip().split('|')\n",
        "                if len(parts) != 7:\n",
        "                    raise ValueError(f\"Неверный формат строки: {line}\")\n",
        "                question_text = parts[0]\n",
        "                options = parts[1:6]\n",
        "                correct_answer = parts[6]\n",
        "                if correct_answer not in options:\n",
        "                    raise ValueError(f\"Правильный ответ отсутствует в вариантах: {line}\")\n",
        "                questions.append(Question(question_text, options, correct_answer))\n",
        "    except FileNotFoundError:\n",
        "        print(f\"Ошибка: Файл {file_path} не найден.\")\n",
        "        exit(1)\n",
        "    except ValueError as e:\n",
        "        print(f\"Ошибка при чтении файла: {e}\")\n",
        "        exit(1)\n",
        "    return questions\n",
        "\n",
        "def save_results_to_file(start_time, end_time, total_questions, correct_count):\n",
        "    percentage = (correct_count / total_questions) * 100\n",
        "    result_text = (\n",
        "        f\"Время начала теста: {start_time.strftime('%Y-%m-%d %H:%M:%S')}\\n\"\n",
        "        f\"Время окончания теста: {end_time.strftime('%Y-%m-%d %H:%M:%S')}\\n\"\n",
        "        f\"Общее количество вопросов: {total_questions}\\n\"\n",
        "        f\"Количество правильных ответов: {correct_count}\\n\"\n",
        "        f\"Процент правильных ответов: {percentage:.2f}%\\n\"\n",
        "    )\n",
        "    with open(\"results.txt\", \"w\", encoding=\"utf-8\") as file:\n",
        "        file.write(result_text)\n",
        "\n",
        "def run_test(questions):\n",
        "    random.shuffle(questions)\n",
        "    correct_count = 0\n",
        "    total_questions = len(questions)\n",
        "    for i, question in enumerate(questions, start=1):\n",
        "        question.shuffle_options()\n",
        "        print(f\"\\nВопрос {i}/{total_questions}: {question.text}\")\n",
        "        for idx, option in enumerate(question.options, start=1):\n",
        "            print(f\"{idx}. {option}\")\n",
        "        while True:\n",
        "            try:\n",
        "                user_answer = input(\"Введите номер правильного ответа (1-5): \")\n",
        "                if not user_answer.isdigit() or not (1 <= int(user_answer) <= 5):\n",
        "                    raise ValueError()\n",
        "                if question.check_answer(user_answer):\n",
        "                    print(\"Правильно!\")\n",
        "                    correct_count += 1\n",
        "                else:\n",
        "                    print(f\"Неправильно. Правильный ответ: {question.correct_answer}\")\n",
        "                break\n",
        "            except ValueError:\n",
        "                print(\"Ошибка: Введите число от 1 до 5.\")\n",
        "    return correct_count, total_questions\n",
        "\n",
        "def main():\n",
        "    print(\"Добро пожаловать в программу тестирования!\")\n",
        "    file_path = \"questions.txt\"\n",
        "    questions = load_questions_from_file(\"questions.txt\")\n",
        "    if not questions:\n",
        "        print(\"Файл с вопросами пуст. Тестирование невозможно.\")\n",
        "        return\n",
        "    start_time = datetime.now()\n",
        "    print(\"\\nТестирование начинается...\\n\")\n",
        "    correct_count, total_questions = run_test(questions)\n",
        "    end_time = datetime.now()\n",
        "    print(\"\\nТестирование завершено!\")\n",
        "    print(f\"Общее количество вопросов: {total_questions}\")\n",
        "    print(f\"Количество правильных ответов: {correct_count}\")\n",
        "    percentage = (correct_count / total_questions) * 100\n",
        "    print(f\"Процент правильных ответов: {percentage:.2f}%\")\n",
        "    save_results_to_file(start_time, end_time, total_questions, correct_count)\n",
        "    print(\"Результаты теста сохранены в файл results.txt\")\n",
        "\n",
        "if __name__ == \"__main__\":\n",
        "    main()"
      ],
      "metadata": {
        "colab": {
          "base_uri": "https://localhost:8080/"
        },
        "id": "-L_hlvraljdM",
        "outputId": "fc8fa27f-3d64-4b7a-c357-64d0b5a63ae4"
      },
      "execution_count": null,
      "outputs": [
        {
          "output_type": "stream",
          "name": "stdout",
          "text": [
            "Добро пожаловать в программу тестирования!\n",
            "\n",
            "Тестирование начинается...\n",
            "\n",
            "\n",
            "Вопрос 1/10: Какая функция используется для создания списка чисел в заданном диапазоне?\n",
            "1. filter()\n",
            "2. zip()\n",
            "3. map()\n",
            "4. range()\n",
            "5. list()\n",
            "Введите номер правильного ответа (1-5): 4\n",
            "Правильно!\n",
            "\n",
            "Вопрос 2/10: Какой метод словаря возвращает значение по ключу, а если ключа нет, то возвращает указанное значение?\n",
            "1. setdefault()\n",
            "2. update()\n",
            "3. values()\n",
            "4. get()\n",
            "5. keys()\n",
            "Введите номер правильного ответа (1-5): 3\n",
            "Неправильно. Правильный ответ: get()\n",
            "\n",
            "Вопрос 3/10: Какой оператор используется для выхода из цикла в Python?\n",
            "1. return\n",
            "2. exit\n",
            "3. break\n",
            "4. stop\n",
            "5. continue\n",
            "Введите номер правильного ответа (1-5): 3\n",
            "Правильно!\n",
            "\n",
            "Вопрос 4/10: Какая функция используется для преобразования строки в число с плавающей точкой?\n",
            "1. bool()\n",
            "2. list()\n",
            "3. float()\n",
            "4. str()\n",
            "5. int()\n",
            "Введите номер правильного ответа (1-5): 3\n",
            "Правильно!\n",
            "\n",
            "Вопрос 5/10: Какой метод списка удаляет первый встретившийся элемент по значению?\n",
            "1. del()\n",
            "2. pop()\n",
            "3. clear()\n",
            "4. discard()\n",
            "5. remove()\n",
            "Введите номер правильного ответа (1-5): 5\n",
            "Правильно!\n",
            "\n",
            "Вопрос 6/10: Какой метод строки используется для преобразования всех букв в верхний регистр?\n",
            "1. swapcase()\n",
            "2. title()\n",
            "3. lower()\n",
            "4. upper()\n",
            "5. capitalize()\n",
            "Введите номер правильного ответа (1-5): 4\n",
            "Правильно!\n",
            "\n",
            "Вопрос 7/10: Какая функция используется для чтения всего содержимого файла в виде строки?\n",
            "1. readline()\n",
            "2. read()\n",
            "3. readlines()\n",
            "4. write()\n",
            "5. close()\n",
            "Введите номер правильного ответа (1-5): 2\n",
            "Правильно!\n",
            "\n",
            "Вопрос 8/10: Какой модуль используется для работы со случайными числами в Python?\n",
            "1. os\n",
            "2. random\n",
            "3. sys\n",
            "4. math\n",
            "5. time\n",
            "Введите номер правильного ответа (1-5): 2\n",
            "Правильно!\n",
            "\n",
            "Вопрос 9/10: Какой символ используется для однострочного комментария в Python?\n",
            "1. /* */\n",
            "2. #\n",
            "3. %\n",
            "4. --\n",
            "5. //\n",
            "Введите номер правильного ответа (1-5): 2\n",
            "Правильно!\n",
            "\n",
            "Вопрос 10/10: Какой тип данных представляет собой неизменяемую последовательность элементов?\n",
            "1. set\n",
            "2. str\n",
            "3. dict\n",
            "4. list\n",
            "5. tuple\n",
            "Введите номер правильного ответа (1-5): 5\n",
            "Правильно!\n",
            "\n",
            "Тестирование завершено!\n",
            "Общее количество вопросов: 10\n",
            "Количество правильных ответов: 9\n",
            "Процент правильных ответов: 90.00%\n",
            "Результаты теста сохранены в файл results.txt\n"
          ]
        }
      ]
    }
  ]
}